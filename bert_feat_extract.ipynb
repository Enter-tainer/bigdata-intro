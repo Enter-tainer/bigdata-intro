{
  "nbformat": 4,
  "nbformat_minor": 0,
  "metadata": {
    "kernelspec": {
      "display_name": "Python 3",
      "language": "python",
      "name": "python3"
    },
    "language_info": {
      "codemirror_mode": {
        "name": "ipython",
        "version": 3
      },
      "file_extension": ".py",
      "mimetype": "text/x-python",
      "name": "python",
      "nbconvert_exporter": "python",
      "pygments_lexer": "ipython3",
      "version": "3.7.6"
    },
    "pycharm": {
      "stem_cell": {
        "cell_type": "raw",
        "source": [],
        "metadata": {
          "collapsed": false
        }
      }
    },
    "colab": {
      "name": "bert-feat-extract",
      "provenance": [],
      "collapsed_sections": [
        "h8TYaugzUriW"
      ],
      "toc_visible": true,
      "machine_shape": "hm"
    },
    "accelerator": "GPU",
    "widgets": {
      "application/vnd.jupyter.widget-state+json": {
        "67225666dc574bc1a4a1d7962ce7e971": {
          "model_module": "@jupyter-widgets/controls",
          "model_name": "HBoxModel",
          "state": {
            "_view_name": "HBoxView",
            "_dom_classes": [],
            "_model_name": "HBoxModel",
            "_view_module": "@jupyter-widgets/controls",
            "_model_module_version": "1.5.0",
            "_view_count": null,
            "_view_module_version": "1.5.0",
            "box_style": "",
            "layout": "IPY_MODEL_f8f611b94ca94b10b46c2dd98fe0555f",
            "_model_module": "@jupyter-widgets/controls",
            "children": [
              "IPY_MODEL_16d129315f5e4c15b3f4e7d42d5395cd",
              "IPY_MODEL_f38196a2b2db4d239f01deb884d4fa27"
            ]
          }
        },
        "f8f611b94ca94b10b46c2dd98fe0555f": {
          "model_module": "@jupyter-widgets/base",
          "model_name": "LayoutModel",
          "state": {
            "_view_name": "LayoutView",
            "grid_template_rows": null,
            "right": null,
            "justify_content": null,
            "_view_module": "@jupyter-widgets/base",
            "overflow": null,
            "_model_module_version": "1.2.0",
            "_view_count": null,
            "flex_flow": null,
            "width": null,
            "min_width": null,
            "border": null,
            "align_items": null,
            "bottom": null,
            "_model_module": "@jupyter-widgets/base",
            "top": null,
            "grid_column": null,
            "overflow_y": null,
            "overflow_x": null,
            "grid_auto_flow": null,
            "grid_area": null,
            "grid_template_columns": null,
            "flex": null,
            "_model_name": "LayoutModel",
            "justify_items": null,
            "grid_row": null,
            "max_height": null,
            "align_content": null,
            "visibility": null,
            "align_self": null,
            "height": null,
            "min_height": null,
            "padding": null,
            "grid_auto_rows": null,
            "grid_gap": null,
            "max_width": null,
            "order": null,
            "_view_module_version": "1.2.0",
            "grid_template_areas": null,
            "object_position": null,
            "object_fit": null,
            "grid_auto_columns": null,
            "margin": null,
            "display": null,
            "left": null
          }
        },
        "16d129315f5e4c15b3f4e7d42d5395cd": {
          "model_module": "@jupyter-widgets/controls",
          "model_name": "IntProgressModel",
          "state": {
            "_view_name": "ProgressView",
            "style": "IPY_MODEL_f206970d80de44d4a07ad57840cc827c",
            "_dom_classes": [],
            "description": "Downloading: 100%",
            "_model_name": "IntProgressModel",
            "bar_style": "success",
            "max": 230,
            "_view_module": "@jupyter-widgets/controls",
            "_model_module_version": "1.5.0",
            "value": 230,
            "_view_count": null,
            "_view_module_version": "1.5.0",
            "orientation": "horizontal",
            "min": 0,
            "description_tooltip": null,
            "_model_module": "@jupyter-widgets/controls",
            "layout": "IPY_MODEL_1377d9534afa46329b15ebb1a059bef9"
          }
        },
        "f38196a2b2db4d239f01deb884d4fa27": {
          "model_module": "@jupyter-widgets/controls",
          "model_name": "HTMLModel",
          "state": {
            "_view_name": "HTMLView",
            "style": "IPY_MODEL_2f7283130c1749db940ea563c49bacf9",
            "_dom_classes": [],
            "description": "",
            "_model_name": "HTMLModel",
            "placeholder": "​",
            "_view_module": "@jupyter-widgets/controls",
            "_model_module_version": "1.5.0",
            "value": " 230/230 [00:00&lt;00:00, 339B/s]",
            "_view_count": null,
            "_view_module_version": "1.5.0",
            "description_tooltip": null,
            "_model_module": "@jupyter-widgets/controls",
            "layout": "IPY_MODEL_6a1c1d5368b24cea94f03f0431672c9e"
          }
        },
        "f206970d80de44d4a07ad57840cc827c": {
          "model_module": "@jupyter-widgets/controls",
          "model_name": "ProgressStyleModel",
          "state": {
            "_view_name": "StyleView",
            "_model_name": "ProgressStyleModel",
            "description_width": "initial",
            "_view_module": "@jupyter-widgets/base",
            "_model_module_version": "1.5.0",
            "_view_count": null,
            "_view_module_version": "1.2.0",
            "bar_color": null,
            "_model_module": "@jupyter-widgets/controls"
          }
        },
        "1377d9534afa46329b15ebb1a059bef9": {
          "model_module": "@jupyter-widgets/base",
          "model_name": "LayoutModel",
          "state": {
            "_view_name": "LayoutView",
            "grid_template_rows": null,
            "right": null,
            "justify_content": null,
            "_view_module": "@jupyter-widgets/base",
            "overflow": null,
            "_model_module_version": "1.2.0",
            "_view_count": null,
            "flex_flow": null,
            "width": null,
            "min_width": null,
            "border": null,
            "align_items": null,
            "bottom": null,
            "_model_module": "@jupyter-widgets/base",
            "top": null,
            "grid_column": null,
            "overflow_y": null,
            "overflow_x": null,
            "grid_auto_flow": null,
            "grid_area": null,
            "grid_template_columns": null,
            "flex": null,
            "_model_name": "LayoutModel",
            "justify_items": null,
            "grid_row": null,
            "max_height": null,
            "align_content": null,
            "visibility": null,
            "align_self": null,
            "height": null,
            "min_height": null,
            "padding": null,
            "grid_auto_rows": null,
            "grid_gap": null,
            "max_width": null,
            "order": null,
            "_view_module_version": "1.2.0",
            "grid_template_areas": null,
            "object_position": null,
            "object_fit": null,
            "grid_auto_columns": null,
            "margin": null,
            "display": null,
            "left": null
          }
        },
        "2f7283130c1749db940ea563c49bacf9": {
          "model_module": "@jupyter-widgets/controls",
          "model_name": "DescriptionStyleModel",
          "state": {
            "_view_name": "StyleView",
            "_model_name": "DescriptionStyleModel",
            "description_width": "",
            "_view_module": "@jupyter-widgets/base",
            "_model_module_version": "1.5.0",
            "_view_count": null,
            "_view_module_version": "1.2.0",
            "_model_module": "@jupyter-widgets/controls"
          }
        },
        "6a1c1d5368b24cea94f03f0431672c9e": {
          "model_module": "@jupyter-widgets/base",
          "model_name": "LayoutModel",
          "state": {
            "_view_name": "LayoutView",
            "grid_template_rows": null,
            "right": null,
            "justify_content": null,
            "_view_module": "@jupyter-widgets/base",
            "overflow": null,
            "_model_module_version": "1.2.0",
            "_view_count": null,
            "flex_flow": null,
            "width": null,
            "min_width": null,
            "border": null,
            "align_items": null,
            "bottom": null,
            "_model_module": "@jupyter-widgets/base",
            "top": null,
            "grid_column": null,
            "overflow_y": null,
            "overflow_x": null,
            "grid_auto_flow": null,
            "grid_area": null,
            "grid_template_columns": null,
            "flex": null,
            "_model_name": "LayoutModel",
            "justify_items": null,
            "grid_row": null,
            "max_height": null,
            "align_content": null,
            "visibility": null,
            "align_self": null,
            "height": null,
            "min_height": null,
            "padding": null,
            "grid_auto_rows": null,
            "grid_gap": null,
            "max_width": null,
            "order": null,
            "_view_module_version": "1.2.0",
            "grid_template_areas": null,
            "object_position": null,
            "object_fit": null,
            "grid_auto_columns": null,
            "margin": null,
            "display": null,
            "left": null
          }
        },
        "3b7a4935f30c45988516e89ba8affbbc": {
          "model_module": "@jupyter-widgets/controls",
          "model_name": "HBoxModel",
          "state": {
            "_view_name": "HBoxView",
            "_dom_classes": [],
            "_model_name": "HBoxModel",
            "_view_module": "@jupyter-widgets/controls",
            "_model_module_version": "1.5.0",
            "_view_count": null,
            "_view_module_version": "1.5.0",
            "box_style": "",
            "layout": "IPY_MODEL_fcc8472f47d249559ef457727b32972e",
            "_model_module": "@jupyter-widgets/controls",
            "children": [
              "IPY_MODEL_fefdfcd6804c492c9371ec456da24c55",
              "IPY_MODEL_317c1f30c6804f9aa87d48e34669371e"
            ]
          }
        },
        "fcc8472f47d249559ef457727b32972e": {
          "model_module": "@jupyter-widgets/base",
          "model_name": "LayoutModel",
          "state": {
            "_view_name": "LayoutView",
            "grid_template_rows": null,
            "right": null,
            "justify_content": null,
            "_view_module": "@jupyter-widgets/base",
            "overflow": null,
            "_model_module_version": "1.2.0",
            "_view_count": null,
            "flex_flow": null,
            "width": null,
            "min_width": null,
            "border": null,
            "align_items": null,
            "bottom": null,
            "_model_module": "@jupyter-widgets/base",
            "top": null,
            "grid_column": null,
            "overflow_y": null,
            "overflow_x": null,
            "grid_auto_flow": null,
            "grid_area": null,
            "grid_template_columns": null,
            "flex": null,
            "_model_name": "LayoutModel",
            "justify_items": null,
            "grid_row": null,
            "max_height": null,
            "align_content": null,
            "visibility": null,
            "align_self": null,
            "height": null,
            "min_height": null,
            "padding": null,
            "grid_auto_rows": null,
            "grid_gap": null,
            "max_width": null,
            "order": null,
            "_view_module_version": "1.2.0",
            "grid_template_areas": null,
            "object_position": null,
            "object_fit": null,
            "grid_auto_columns": null,
            "margin": null,
            "display": null,
            "left": null
          }
        },
        "fefdfcd6804c492c9371ec456da24c55": {
          "model_module": "@jupyter-widgets/controls",
          "model_name": "IntProgressModel",
          "state": {
            "_view_name": "ProgressView",
            "style": "IPY_MODEL_dd47b14b2e3f47c581670322b524bf8f",
            "_dom_classes": [],
            "description": "Downloading: 100%",
            "_model_name": "IntProgressModel",
            "bar_style": "success",
            "max": 230,
            "_view_module": "@jupyter-widgets/controls",
            "_model_module_version": "1.5.0",
            "value": 230,
            "_view_count": null,
            "_view_module_version": "1.5.0",
            "orientation": "horizontal",
            "min": 0,
            "description_tooltip": null,
            "_model_module": "@jupyter-widgets/controls",
            "layout": "IPY_MODEL_a7c39c53538d4b83bb5177d99721fed1"
          }
        },
        "317c1f30c6804f9aa87d48e34669371e": {
          "model_module": "@jupyter-widgets/controls",
          "model_name": "HTMLModel",
          "state": {
            "_view_name": "HTMLView",
            "style": "IPY_MODEL_9f19684340a546f8b9ce5c3035183058",
            "_dom_classes": [],
            "description": "",
            "_model_name": "HTMLModel",
            "placeholder": "​",
            "_view_module": "@jupyter-widgets/controls",
            "_model_module_version": "1.5.0",
            "value": " 230/230 [00:00&lt;00:00, 315B/s]",
            "_view_count": null,
            "_view_module_version": "1.5.0",
            "description_tooltip": null,
            "_model_module": "@jupyter-widgets/controls",
            "layout": "IPY_MODEL_e0750c04110742638f5b7cfac5a8df06"
          }
        },
        "dd47b14b2e3f47c581670322b524bf8f": {
          "model_module": "@jupyter-widgets/controls",
          "model_name": "ProgressStyleModel",
          "state": {
            "_view_name": "StyleView",
            "_model_name": "ProgressStyleModel",
            "description_width": "initial",
            "_view_module": "@jupyter-widgets/base",
            "_model_module_version": "1.5.0",
            "_view_count": null,
            "_view_module_version": "1.2.0",
            "bar_color": null,
            "_model_module": "@jupyter-widgets/controls"
          }
        },
        "a7c39c53538d4b83bb5177d99721fed1": {
          "model_module": "@jupyter-widgets/base",
          "model_name": "LayoutModel",
          "state": {
            "_view_name": "LayoutView",
            "grid_template_rows": null,
            "right": null,
            "justify_content": null,
            "_view_module": "@jupyter-widgets/base",
            "overflow": null,
            "_model_module_version": "1.2.0",
            "_view_count": null,
            "flex_flow": null,
            "width": null,
            "min_width": null,
            "border": null,
            "align_items": null,
            "bottom": null,
            "_model_module": "@jupyter-widgets/base",
            "top": null,
            "grid_column": null,
            "overflow_y": null,
            "overflow_x": null,
            "grid_auto_flow": null,
            "grid_area": null,
            "grid_template_columns": null,
            "flex": null,
            "_model_name": "LayoutModel",
            "justify_items": null,
            "grid_row": null,
            "max_height": null,
            "align_content": null,
            "visibility": null,
            "align_self": null,
            "height": null,
            "min_height": null,
            "padding": null,
            "grid_auto_rows": null,
            "grid_gap": null,
            "max_width": null,
            "order": null,
            "_view_module_version": "1.2.0",
            "grid_template_areas": null,
            "object_position": null,
            "object_fit": null,
            "grid_auto_columns": null,
            "margin": null,
            "display": null,
            "left": null
          }
        },
        "9f19684340a546f8b9ce5c3035183058": {
          "model_module": "@jupyter-widgets/controls",
          "model_name": "DescriptionStyleModel",
          "state": {
            "_view_name": "StyleView",
            "_model_name": "DescriptionStyleModel",
            "description_width": "",
            "_view_module": "@jupyter-widgets/base",
            "_model_module_version": "1.5.0",
            "_view_count": null,
            "_view_module_version": "1.2.0",
            "_model_module": "@jupyter-widgets/controls"
          }
        },
        "e0750c04110742638f5b7cfac5a8df06": {
          "model_module": "@jupyter-widgets/base",
          "model_name": "LayoutModel",
          "state": {
            "_view_name": "LayoutView",
            "grid_template_rows": null,
            "right": null,
            "justify_content": null,
            "_view_module": "@jupyter-widgets/base",
            "overflow": null,
            "_model_module_version": "1.2.0",
            "_view_count": null,
            "flex_flow": null,
            "width": null,
            "min_width": null,
            "border": null,
            "align_items": null,
            "bottom": null,
            "_model_module": "@jupyter-widgets/base",
            "top": null,
            "grid_column": null,
            "overflow_y": null,
            "overflow_x": null,
            "grid_auto_flow": null,
            "grid_area": null,
            "grid_template_columns": null,
            "flex": null,
            "_model_name": "LayoutModel",
            "justify_items": null,
            "grid_row": null,
            "max_height": null,
            "align_content": null,
            "visibility": null,
            "align_self": null,
            "height": null,
            "min_height": null,
            "padding": null,
            "grid_auto_rows": null,
            "grid_gap": null,
            "max_width": null,
            "order": null,
            "_view_module_version": "1.2.0",
            "grid_template_areas": null,
            "object_position": null,
            "object_fit": null,
            "grid_auto_columns": null,
            "margin": null,
            "display": null,
            "left": null
          }
        }
      }
    }
  },
  "cells": [
    {
      "cell_type": "code",
      "metadata": {
        "pycharm": {
          "name": "#%% code\n"
        },
        "id": "4maAknWNrl_N",
        "colab_type": "code",
        "colab": {}
      },
      "source": [
        "!pip install -q transformers"
      ],
      "execution_count": 0,
      "outputs": []
    },
    {
      "cell_type": "code",
      "metadata": {
        "id": "uJ4LxxOsn9t9",
        "colab_type": "code",
        "outputId": "55912de5-0a7d-4828-81b1-090b6186a928",
        "colab": {
          "base_uri": "https://localhost:8080/",
          "height": 1000
        }
      },
      "source": [
        "!/opt/bin/nvidia-smi\n",
        "!cat /proc/cpuinfo"
      ],
      "execution_count": 0,
      "outputs": [
        {
          "output_type": "stream",
          "text": [
            "Fri Apr 24 14:39:19 2020       \n",
            "+-----------------------------------------------------------------------------+\n",
            "| NVIDIA-SMI 418.67       Driver Version: 418.67       CUDA Version: 10.1     |\n",
            "|-------------------------------+----------------------+----------------------+\n",
            "| GPU  Name        Persistence-M| Bus-Id        Disp.A | Volatile Uncorr. ECC |\n",
            "| Fan  Temp  Perf  Pwr:Usage/Cap|         Memory-Usage | GPU-Util  Compute M. |\n",
            "|===============================+======================+======================|\n",
            "|   0  Tesla P100-PCIE...  Off  | 00000000:00:04.0 Off |                    0 |\n",
            "| N/A   43C    P0    26W / 250W |      0MiB / 16280MiB |      0%      Default |\n",
            "+-------------------------------+----------------------+----------------------+\n",
            "                                                                               \n",
            "+-----------------------------------------------------------------------------+\n",
            "| Processes:                                                       GPU Memory |\n",
            "|  GPU       PID   Type   Process name                             Usage      |\n",
            "|=============================================================================|\n",
            "|  No running processes found                                                 |\n",
            "+-----------------------------------------------------------------------------+\n",
            "processor\t: 0\n",
            "vendor_id\t: GenuineIntel\n",
            "cpu family\t: 6\n",
            "model\t\t: 79\n",
            "model name\t: Intel(R) Xeon(R) CPU @ 2.20GHz\n",
            "stepping\t: 0\n",
            "microcode\t: 0x1\n",
            "cpu MHz\t\t: 2199.998\n",
            "cache size\t: 56320 KB\n",
            "physical id\t: 0\n",
            "siblings\t: 4\n",
            "core id\t\t: 0\n",
            "cpu cores\t: 2\n",
            "apicid\t\t: 0\n",
            "initial apicid\t: 0\n",
            "fpu\t\t: yes\n",
            "fpu_exception\t: yes\n",
            "cpuid level\t: 13\n",
            "wp\t\t: yes\n",
            "flags\t\t: fpu vme de pse tsc msr pae mce cx8 apic sep mtrr pge mca cmov pat pse36 clflush mmx fxsr sse sse2 ss ht syscall nx pdpe1gb rdtscp lm constant_tsc rep_good nopl xtopology nonstop_tsc cpuid tsc_known_freq pni pclmulqdq ssse3 fma cx16 pcid sse4_1 sse4_2 x2apic movbe popcnt aes xsave avx f16c rdrand hypervisor lahf_lm abm 3dnowprefetch invpcid_single ssbd ibrs ibpb stibp fsgsbase tsc_adjust bmi1 hle avx2 smep bmi2 erms invpcid rtm rdseed adx smap xsaveopt arat md_clear arch_capabilities\n",
            "bugs\t\t: cpu_meltdown spectre_v1 spectre_v2 spec_store_bypass l1tf mds swapgs taa itlb_multihit\n",
            "bogomips\t: 4399.99\n",
            "clflush size\t: 64\n",
            "cache_alignment\t: 64\n",
            "address sizes\t: 46 bits physical, 48 bits virtual\n",
            "power management:\n",
            "\n",
            "processor\t: 1\n",
            "vendor_id\t: GenuineIntel\n",
            "cpu family\t: 6\n",
            "model\t\t: 79\n",
            "model name\t: Intel(R) Xeon(R) CPU @ 2.20GHz\n",
            "stepping\t: 0\n",
            "microcode\t: 0x1\n",
            "cpu MHz\t\t: 2199.998\n",
            "cache size\t: 56320 KB\n",
            "physical id\t: 0\n",
            "siblings\t: 4\n",
            "core id\t\t: 1\n",
            "cpu cores\t: 2\n",
            "apicid\t\t: 2\n",
            "initial apicid\t: 2\n",
            "fpu\t\t: yes\n",
            "fpu_exception\t: yes\n",
            "cpuid level\t: 13\n",
            "wp\t\t: yes\n",
            "flags\t\t: fpu vme de pse tsc msr pae mce cx8 apic sep mtrr pge mca cmov pat pse36 clflush mmx fxsr sse sse2 ss ht syscall nx pdpe1gb rdtscp lm constant_tsc rep_good nopl xtopology nonstop_tsc cpuid tsc_known_freq pni pclmulqdq ssse3 fma cx16 pcid sse4_1 sse4_2 x2apic movbe popcnt aes xsave avx f16c rdrand hypervisor lahf_lm abm 3dnowprefetch invpcid_single ssbd ibrs ibpb stibp fsgsbase tsc_adjust bmi1 hle avx2 smep bmi2 erms invpcid rtm rdseed adx smap xsaveopt arat md_clear arch_capabilities\n",
            "bugs\t\t: cpu_meltdown spectre_v1 spectre_v2 spec_store_bypass l1tf mds swapgs taa itlb_multihit\n",
            "bogomips\t: 4399.99\n",
            "clflush size\t: 64\n",
            "cache_alignment\t: 64\n",
            "address sizes\t: 46 bits physical, 48 bits virtual\n",
            "power management:\n",
            "\n",
            "processor\t: 2\n",
            "vendor_id\t: GenuineIntel\n",
            "cpu family\t: 6\n",
            "model\t\t: 79\n",
            "model name\t: Intel(R) Xeon(R) CPU @ 2.20GHz\n",
            "stepping\t: 0\n",
            "microcode\t: 0x1\n",
            "cpu MHz\t\t: 2199.998\n",
            "cache size\t: 56320 KB\n",
            "physical id\t: 0\n",
            "siblings\t: 4\n",
            "core id\t\t: 0\n",
            "cpu cores\t: 2\n",
            "apicid\t\t: 1\n",
            "initial apicid\t: 1\n",
            "fpu\t\t: yes\n",
            "fpu_exception\t: yes\n",
            "cpuid level\t: 13\n",
            "wp\t\t: yes\n",
            "flags\t\t: fpu vme de pse tsc msr pae mce cx8 apic sep mtrr pge mca cmov pat pse36 clflush mmx fxsr sse sse2 ss ht syscall nx pdpe1gb rdtscp lm constant_tsc rep_good nopl xtopology nonstop_tsc cpuid tsc_known_freq pni pclmulqdq ssse3 fma cx16 pcid sse4_1 sse4_2 x2apic movbe popcnt aes xsave avx f16c rdrand hypervisor lahf_lm abm 3dnowprefetch invpcid_single ssbd ibrs ibpb stibp fsgsbase tsc_adjust bmi1 hle avx2 smep bmi2 erms invpcid rtm rdseed adx smap xsaveopt arat md_clear arch_capabilities\n",
            "bugs\t\t: cpu_meltdown spectre_v1 spectre_v2 spec_store_bypass l1tf mds swapgs taa itlb_multihit\n",
            "bogomips\t: 4399.99\n",
            "clflush size\t: 64\n",
            "cache_alignment\t: 64\n",
            "address sizes\t: 46 bits physical, 48 bits virtual\n",
            "power management:\n",
            "\n",
            "processor\t: 3\n",
            "vendor_id\t: GenuineIntel\n",
            "cpu family\t: 6\n",
            "model\t\t: 79\n",
            "model name\t: Intel(R) Xeon(R) CPU @ 2.20GHz\n",
            "stepping\t: 0\n",
            "microcode\t: 0x1\n",
            "cpu MHz\t\t: 2199.998\n",
            "cache size\t: 56320 KB\n",
            "physical id\t: 0\n",
            "siblings\t: 4\n",
            "core id\t\t: 1\n",
            "cpu cores\t: 2\n",
            "apicid\t\t: 3\n",
            "initial apicid\t: 3\n",
            "fpu\t\t: yes\n",
            "fpu_exception\t: yes\n",
            "cpuid level\t: 13\n",
            "wp\t\t: yes\n",
            "flags\t\t: fpu vme de pse tsc msr pae mce cx8 apic sep mtrr pge mca cmov pat pse36 clflush mmx fxsr sse sse2 ss ht syscall nx pdpe1gb rdtscp lm constant_tsc rep_good nopl xtopology nonstop_tsc cpuid tsc_known_freq pni pclmulqdq ssse3 fma cx16 pcid sse4_1 sse4_2 x2apic movbe popcnt aes xsave avx f16c rdrand hypervisor lahf_lm abm 3dnowprefetch invpcid_single ssbd ibrs ibpb stibp fsgsbase tsc_adjust bmi1 hle avx2 smep bmi2 erms invpcid rtm rdseed adx smap xsaveopt arat md_clear arch_capabilities\n",
            "bugs\t\t: cpu_meltdown spectre_v1 spectre_v2 spec_store_bypass l1tf mds swapgs taa itlb_multihit\n",
            "bogomips\t: 4399.99\n",
            "clflush size\t: 64\n",
            "cache_alignment\t: 64\n",
            "address sizes\t: 46 bits physical, 48 bits virtual\n",
            "power management:\n",
            "\n"
          ],
          "name": "stdout"
        }
      ]
    },
    {
      "cell_type": "code",
      "metadata": {
        "pycharm": {
          "is_executing": false,
          "name": "#%% code \n"
        },
        "id": "uKaqzCh6rl_V",
        "colab_type": "code",
        "colab": {}
      },
      "source": [
        "from __future__ import print_function\n",
        "from transformers import pipeline\n",
        "from google.colab import files\n",
        "from transformers import BertConfig\n",
        "import numpy as np\n",
        "import tensorflow as tf\n",
        "from tensorflow.keras import datasets, layers, models\n",
        "import json\n",
        "import math\n",
        "import random"
      ],
      "execution_count": 0,
      "outputs": []
    },
    {
      "cell_type": "code",
      "metadata": {
        "id": "SbPe7r2XVq5v",
        "colab_type": "code",
        "colab": {}
      },
      "source": [
        "target_medicine='news_content_translate_en'\n",
        "society=[]\n",
        "politics=[]\n",
        "sports=[]\n",
        "technology=[]\n",
        "economy=[]"
      ],
      "execution_count": 0,
      "outputs": []
    },
    {
      "cell_type": "markdown",
      "metadata": {
        "id": "h8TYaugzUriW",
        "colab_type": "text"
      },
      "source": [
        "## Load Data from mutiple files"
      ]
    },
    {
      "cell_type": "code",
      "metadata": {
        "id": "zT1wWCZB8eDz",
        "colab_type": "code",
        "outputId": "1d34e950-9783-45b4-ee8d-bf9a286ecb6f",
        "colab": {
          "base_uri": "https://localhost:8080/",
          "height": 238
        }
      },
      "source": [
        "\n",
        "with open(\"economy.json\",\"r\") as f:\n",
        "    temp=json.loads(f.read())\n",
        "for x in temp:\n",
        "    if 'news_content_translate_en' in x:\n",
        "        if 'news_content_translate_cn' in x:\n",
        "            economy.append(x)\n",
        "\n",
        "with open(\"politics.json\",\"r\") as f:\n",
        "    temp=json.loads(f.read())\n",
        "for x in temp:\n",
        "    if 'news_content_translate_en' in x:\n",
        "        if 'news_content_translate_cn' in x:\n",
        "            politics.append(x)\n",
        "\n",
        "with open(\"society.json\",\"r\") as f:\n",
        "    temp=json.loads(f.read())\n",
        "for x in temp:\n",
        "    if 'news_content_translate_en' in x:\n",
        "        if 'news_content_translate_cn' in x:\n",
        "            society.append(x)\n",
        "\n",
        "with open(\"sports.json\",\"r\") as f:\n",
        "    temp=json.loads(f.read())\n",
        "for x in temp:\n",
        "    if 'news_content_translate_en' in x:\n",
        "        if 'news_content_translate_cn' in x:\n",
        "            sports.append(x)\n",
        "\n",
        "with open(\"technology.json\",\"r\") as f:\n",
        "    temp=json.loads(f.read())\n",
        "for x in temp:\n",
        "    if 'news_content_translate_en' in x:\n",
        "        if 'news_content_translate_cn' in x:\n",
        "            technology.append(x)"
      ],
      "execution_count": 0,
      "outputs": [
        {
          "output_type": "error",
          "ename": "FileNotFoundError",
          "evalue": "ignored",
          "traceback": [
            "\u001b[0;31m---------------------------------------------------------------------------\u001b[0m",
            "\u001b[0;31mFileNotFoundError\u001b[0m                         Traceback (most recent call last)",
            "\u001b[0;32m<ipython-input-4-34a80e4521f5>\u001b[0m in \u001b[0;36m<module>\u001b[0;34m()\u001b[0m\n\u001b[1;32m      1\u001b[0m \u001b[0;34m\u001b[0m\u001b[0m\n\u001b[0;32m----> 2\u001b[0;31m \u001b[0;32mwith\u001b[0m \u001b[0mopen\u001b[0m\u001b[0;34m(\u001b[0m\u001b[0;34m\"economy.json\"\u001b[0m\u001b[0;34m,\u001b[0m\u001b[0;34m\"r\"\u001b[0m\u001b[0;34m)\u001b[0m \u001b[0;32mas\u001b[0m \u001b[0mf\u001b[0m\u001b[0;34m:\u001b[0m\u001b[0;34m\u001b[0m\u001b[0;34m\u001b[0m\u001b[0m\n\u001b[0m\u001b[1;32m      3\u001b[0m     \u001b[0mtemp\u001b[0m\u001b[0;34m=\u001b[0m\u001b[0mjson\u001b[0m\u001b[0;34m.\u001b[0m\u001b[0mloads\u001b[0m\u001b[0;34m(\u001b[0m\u001b[0mf\u001b[0m\u001b[0;34m.\u001b[0m\u001b[0mread\u001b[0m\u001b[0;34m(\u001b[0m\u001b[0;34m)\u001b[0m\u001b[0;34m)\u001b[0m\u001b[0;34m\u001b[0m\u001b[0;34m\u001b[0m\u001b[0m\n\u001b[1;32m      4\u001b[0m \u001b[0;32mfor\u001b[0m \u001b[0mx\u001b[0m \u001b[0;32min\u001b[0m \u001b[0mtemp\u001b[0m\u001b[0;34m:\u001b[0m\u001b[0;34m\u001b[0m\u001b[0;34m\u001b[0m\u001b[0m\n\u001b[1;32m      5\u001b[0m     \u001b[0;32mif\u001b[0m \u001b[0;34m'news_content_translate_en'\u001b[0m \u001b[0;32min\u001b[0m \u001b[0mx\u001b[0m\u001b[0;34m:\u001b[0m\u001b[0;34m\u001b[0m\u001b[0;34m\u001b[0m\u001b[0m\n",
            "\u001b[0;31mFileNotFoundError\u001b[0m: [Errno 2] No such file or directory: 'economy.json'"
          ]
        }
      ]
    },
    {
      "cell_type": "markdown",
      "metadata": {
        "id": "gqSQY6m_UqyK",
        "colab_type": "text"
      },
      "source": [
        "## Load data from on file"
      ]
    },
    {
      "cell_type": "code",
      "metadata": {
        "id": "oWhcxGNqUyf3",
        "colab_type": "code",
        "colab": {}
      },
      "source": [
        "with open(\"less_society.json\",\"r\") as f:\n",
        "    temp = json.loads(f.read())\n",
        "    for x in temp:\n",
        "        if 'news_content_translate_en' in x and 'news_content_translate_cn' in x:\n",
        "            if x['news_subject'] == 'politics':\n",
        "                politics.append(x)\n",
        "            elif x['news_subject'] == 'economy':\n",
        "                economy.append(x)\n",
        "            elif x['news_subject'] == 'society':\n",
        "                society.append(x)\n",
        "            elif x['news_subject'] == 'sports':\n",
        "                sports.append(x) \n",
        "            elif x['news_subject'] == 'technology':\n",
        "                technology.append(x) "
      ],
      "execution_count": 0,
      "outputs": []
    },
    {
      "cell_type": "code",
      "metadata": {
        "id": "iaNJV3pEtCSp",
        "colab_type": "code",
        "outputId": "80cc9440-1ac0-45fe-bb74-7e841b0b4159",
        "colab": {
          "base_uri": "https://localhost:8080/",
          "height": 222
        }
      },
      "source": [
        "politics[0]\n",
        "economy[0]\n",
        "society[0]\n",
        "sports[0]\n",
        "technology[0]"
      ],
      "execution_count": 0,
      "outputs": [
        {
          "output_type": "execute_result",
          "data": {
            "text/plain": [
              "{'id': '5e8a149a02f74d1837931953',\n",
              " 'news_about_china': False,\n",
              " 'news_content_translate_cn': '来自澳大利亚默多克研究所的一组研究人员今天宣布，他们将在感染covid-19疫苗的医疗专业人员中进行测试，以验证在减轻疾病症状方面的有效性。\\n墨尔本默多克研究所的研究人员o n e解释说：“虽然卡介苗最初是用来治疗肺结核的，但每年仍要给超过1.3亿婴儿使用，但卡介苗也会增加人体内基本免疫物质的消耗。”，法新社引用。\\n这项临床试验将涉及澳大利亚医院约4000名卫生专业人员，以验证这种疫苗是否有能力减轻SARS-CoV-2疾病的症状。\\n研究小组组长奈杰尔·柯蒂斯解释说，如果卡介苗按预期发挥作用，受感染的医疗专业人员中的covid-19将“症状的频率和严重程度有所降低”。\\n这些大规模试验也将在荷兰、德国或英国等其他国家进行。\\n导致dim-19大流行的新型冠状病毒已经感染了全球50.5万人，其中约23000人死亡。\\n在感染病例中，至少108.900人被认为已治愈。\\n去年12月在中国出现后，疫情在全球蔓延，导致世界卫生组织（WHO）宣布出现大流行局面。\\n欧洲大陆有近275000人感染，16000人死亡，是目前出现病例最多的大陆，意大利是世界上死亡人数最多的国家，迄今为止，在80.539例病例中有8.165人死亡。\\n西班牙是死亡人数最多的第二个国家，死亡人数为4.089人，确诊感染病例在56.188人之间。是 啊。\\n除香港和澳门外，中国有81285例（超过7.4万人恢复）和3287例死亡记录。周三，他报告了6例死亡和67例新病例，全部来自国外，当时该国在瘫痪两个月后开始恢复正常。\\n受影响最大的国家是伊朗，仅次于意大利、西班牙和中国，报告死亡2.234例（29.406例），法国死亡1.696例（29.155例），美国死亡1.178例（81.321例）。\\n迄今为止，非洲大陆已有87例因新型冠状病毒死亡的记录，超过46个国家的3200例。\\n一些国家采取了特殊措施，包括隔离和关闭边境。',\n",
              " 'news_content_translate_en': 'A team of researchers from the Murdoch Institute in Australia announced today that they will test in healthcare professionals infected with the covid-19 a vaccine used to treat tuberculosis to verify effectiveness in mitigating disease symptoms.\\n\"Although originally developed to treat tuberculosis and still to be administered more than 130 million babies annually, the BCG (Calmette-Guerion Bacillus) also increases consumption of basic immunological substances in the body\", explained o n e of the researchers at the Murdoch Institute in Melbourne, cited by the agency France-Presse.\\nThe clinical trial will involve around four.000 health professionals in Australian hospitals to verify the ability of this vaccine to reduce the symptoms of SARS-CoV-2 disease.\\nInvestigator team leader Nigel Curtis has explained that if the BCG acts as intended, there will be \"a reduction in the frequency and severity of symptoms\" of covid-19 in healthcare professionals who are infected.\\nThese large-scale tests will also be carried out in other countries, such as the Netherlands, Germany or the United Kingdom.\\nThe new coronavirus, responsible for the pandemic of the dim-19, has already infected more 505 thousand people around the world, of whom died about 23.000.\\nIn cases of infection, at least 108.900 are considered cured.\\nAfter appearing in China in December, the outbreak spread throughout the world, leading the World Health Organization (WHO) to declare a pandemic situation.\\nThe European continent, with almost 275.000 infected and 16.000 dead, is the one where the largest number of cases are currently emerging, and Italy is the country with the most fatalities in the world, with eight.165 killed in 80.539 cases recorded to this day.\\nSpain is the second country with the highest number of deaths, with four.089, between 56.188 confirmed cases of infection.Yeah.\\nChina, other than Hong Kong and Macao, has 81.285 cases (more than 74 thousand recovered) and records 3.287 deaths. On Wednesday, he reported six deaths and 67 new cases, all from abroad, when the country begins to return to normal after two months of paralysis.\\nThe most affected countries after Italy, Spain and China are Iran, with two.234 reported deaths (29.406 cases), France, with 1.696 deaths (29.155 cases), and the United States, with 1.178 deaths (81.321 cases).\\nThe African continent has to date recorded 87 deaths due to the new coronavirus, surpassing the 3.200 cases in 46 countries.\\nSeveral countries have adopted exceptional measures, including quarantine and border closure.',\n",
              " 'news_emotion': ['objective'],\n",
              " 'news_emotion_basis': [],\n",
              " 'news_position': 'neutral',\n",
              " 'news_subject': 'technology',\n",
              " 'news_title_translate_cn': '研究人员将在感染冠状病毒的医护人员中测试结核病疫苗的有效性',\n",
              " 'news_title_translate_en': 'Investigators will test the effectiveness of tuberculosis vaccine in healthcare professionals infected with coronavirus',\n",
              " 'news_type': 'fact'}"
            ]
          },
          "metadata": {
            "tags": []
          },
          "execution_count": 5
        }
      ]
    },
    {
      "cell_type": "markdown",
      "metadata": {
        "id": "Utmldmetrl_9",
        "colab_type": "text"
      },
      "source": [
        "## 7. Projection - Features Extraction "
      ]
    },
    {
      "cell_type": "code",
      "metadata": {
        "id": "iHlHREA7vjEU",
        "colab_type": "code",
        "colab": {}
      },
      "source": [
        "def get_string(target_medicine,data):\n",
        "    l=[]\n",
        "    for x in data:\n",
        "        l.append(x[target_medicine])\n",
        "    return l"
      ],
      "execution_count": 0,
      "outputs": []
    },
    {
      "cell_type": "code",
      "metadata": {
        "pycharm": {
          "is_executing": false,
          "name": "#%% code\n"
        },
        "id": "O4SjR1QQrl__",
        "colab_type": "code",
        "colab": {}
      },
      "source": [
        "import numpy as np\n",
        "def get_content_features(docl):\n",
        "    config = BertConfig.from_pretrained('bert-base-cased', num_labels=5)\n",
        "    get_features = pipeline('feature-extraction','bert-base-cased',config=config,device=0)\n",
        "    output = []\n",
        "    data_batch_size = 15\n",
        "    for i in range(0, math.ceil(len(docl)/data_batch_size)):\n",
        "        output.extend(\n",
        "            get_features(*\n",
        "                        (docl[i * data_batch_size:min(i*data_batch_size + data_batch_size, len(docl))])\n",
        "                        , pad_to_max_length=True\n",
        "            )\n",
        "        )\n",
        "    return output\n",
        "#np.savez(\"./test.npz\" ,np.array(output))   # (Samples, Tokens, Vector Size)\n",
        "#files.download(\"./test.npz\")"
      ],
      "execution_count": 0,
      "outputs": []
    },
    {
      "cell_type": "code",
      "metadata": {
        "id": "EqaRk3x4I6_Z",
        "colab_type": "code",
        "colab": {}
      },
      "source": [
        "get_class_id = {\n",
        "    'politics': 0,\n",
        "    'society': 1,\n",
        "    'technology': 2,\n",
        "    'economy': 3,\n",
        "    'sports': 4,\n",
        "}\n"
      ],
      "execution_count": 0,
      "outputs": []
    },
    {
      "cell_type": "code",
      "metadata": {
        "id": "SRAP4V7_DOIA",
        "colab_type": "code",
        "colab": {}
      },
      "source": [
        "def get_batched_data_in_a_go():\n",
        "    data_l=[]\n",
        "    test_l=[]\n",
        "    y_train=[]\n",
        "    y_test=[]\n",
        "\n",
        "    random.shuffle(economy)\n",
        "    i=0\n",
        "    for x in economy: \n",
        "        if i<=0.7*len(economy): \n",
        "            data_l.append(x)\n",
        "            y_train.append(get_class_id[x['news_subject']])\n",
        "        else: \n",
        "            test_l.append(x)\n",
        "            y_test.append(get_class_id[x['news_subject']])\n",
        "        i=i+1\n",
        "\n",
        "    # random.shuffle(entertainment)\n",
        "    # i=0\n",
        "    # for x in entertainment: \n",
        "    #     if i<=0.7*len(entertainment): \n",
        "    #         data_l.append(x)\n",
        "    #         y_train.append(get_class_id[x['news_subject']])\n",
        "    #     else: \n",
        "    #         test_l.append(x)\n",
        "    #         y_test.append(get_class_id[x['news_subject']])\n",
        "    #     i=i+1\n",
        "    \n",
        "    # random.shuffle(humanity)\n",
        "    # i=0\n",
        "    # for x in humanity: \n",
        "    #     if i<=0.7*len(humanity): \n",
        "    #         data_l.append(x)\n",
        "    #         y_train.append(get_class_id[x['news_subject']])\n",
        "    #     else: \n",
        "    #         test_l.append(x)\n",
        "    #         y_test.append(get_class_id[x['news_subject']])\n",
        "    #     i=i+1\n",
        "\n",
        "    random.shuffle(politics)\n",
        "    i=0\n",
        "    for x in politics: \n",
        "        if i<=0.7*len(politics): \n",
        "            data_l.append(x)\n",
        "            y_train.append(get_class_id[x['news_subject']])\n",
        "        else: \n",
        "            test_l.append(x)\n",
        "            y_test.append(get_class_id[x['news_subject']])\n",
        "        i=i+1\n",
        "\n",
        "    random.shuffle(society)\n",
        "    i=0\n",
        "    for x in society: \n",
        "        if i<=0.7*len(society): \n",
        "            data_l.append(x)\n",
        "            y_train.append(get_class_id[x['news_subject']])\n",
        "        else: \n",
        "            test_l.append(x)\n",
        "            y_test.append(get_class_id[x['news_subject']])\n",
        "        i=i+1\n",
        "\n",
        "    random.shuffle(sports)\n",
        "    i=0\n",
        "    for x in sports: \n",
        "        if i<=0.7*len(sports): \n",
        "            data_l.append(x)\n",
        "            y_train.append(get_class_id[x['news_subject']])\n",
        "        else: \n",
        "            test_l.append(x)\n",
        "            y_test.append(get_class_id[x['news_subject']])\n",
        "        i=i+1\n",
        "\n",
        "    random.shuffle(technology)\n",
        "    i=0\n",
        "    for x in technology: \n",
        "        if i<=0.7*len(technology): \n",
        "            data_l.append(x)\n",
        "            y_train.append(get_class_id[x['news_subject']])\n",
        "        else: \n",
        "            test_l.append(x)\n",
        "            y_test.append(get_class_id[x['news_subject']])\n",
        "        i=i+1\n",
        "\n",
        "    data_l=get_string(target_medicine,data_l)\n",
        "    test_l=get_string(target_medicine,test_l)\n",
        "    x_train=np.array(get_content_features(data_l))\n",
        "    x_train=x_train.reshape(len(data_l),512,768,1)\n",
        "    x_test = np.array(get_content_features(test_l))\n",
        "    x_test = x_test.reshape(len(test_l),512,768,1)\n",
        "\n",
        "    y_train=np.array(y_train).reshape(len(y_train),1)\n",
        "    y_test = np.array(y_test).reshape(len(y_test),1)\n",
        "    \n",
        "    return x_train,y_train,x_test,y_test"
      ],
      "execution_count": 0,
      "outputs": []
    },
    {
      "cell_type": "code",
      "metadata": {
        "id": "cjUyzwTc6lbj",
        "colab_type": "code",
        "colab": {}
      },
      "source": [
        "def func_train(train_data,train_label,test_data,test_label):\n",
        "    model = models.Sequential()\n",
        "    model.add(layers.Dropout(0.5,input_shape=(512,768,1)))\n",
        "    model.add(layers.Conv2D(32,(2,768),activation='relu'))\n",
        "    model.add(layers.MaxPooling2D((48, 1)))\n",
        "    model.add(layers.Flatten())\n",
        "    model.add(layers.Dropout(0.5))\n",
        "    model.add(layers.Dense(64,activation='relu'))\n",
        "    model.add(layers.Dense(5,activation='relu'))\n",
        "    model.summary()\n",
        "    model.compile(optimizer='adam',\n",
        "              loss=tf.keras.losses.SparseCategoricalCrossentropy(from_logits=True),\n",
        "              metrics=['accuracy'])\n",
        "    model.fit(train_data,train_label,batch_size=32,epochs=60,validation_data=(test_data,test_label))\n",
        "    model.save('model.h5')\n",
        "    return"
      ],
      "execution_count": 0,
      "outputs": []
    },
    {
      "cell_type": "code",
      "metadata": {
        "id": "SMEK9TRr1Bmw",
        "colab_type": "code",
        "outputId": "d2de69cf-5188-4f72-b08d-e935ff0bf591",
        "colab": {
          "base_uri": "https://localhost:8080/",
          "height": 34
        }
      },
      "source": [
        "from tensorflow import keras\n",
        "from tensorflow.keras import layers\n",
        "from keras.utils.generic_utils import get_custom_objects\n",
        "from keras.layers import Dense, Dropout, Flatten, Conv2D, MaxPooling2D, Activation, LeakyReLU\n",
        "import tensorflow_addons as tfa\n",
        "\n",
        "def non_linear_train(train_data, train_label, test_data, test_label):\n",
        "    tf.keras.backend.clear_session()\n",
        "\n",
        "    def gelu(x):\n",
        "        return 0.5 * x * (1 + tf.tanh(tf.sqrt(2 / np.pi) * (x + 0.044715 * tf.pow(x, 3))))\n",
        "    get_custom_objects().update({'gelu': Activation(gelu)})\n",
        "    \n",
        "    inputs=keras.Input(shape=(512,768,1))\n",
        "    conv_2d_layer1=layers.Conv2D(64,(2,768),activation='relu')(inputs);\n",
        "    conv_2d_layer2=layers.Conv2D(64,(3,768),activation='relu')(inputs);\n",
        "    conv_2d_layer3=layers.Conv2D(64,(4,768),activation='relu')(inputs);\n",
        "    conv_2d_layer4=layers.Conv2D(64,(5,768),activation='relu')(inputs);\n",
        "    max_pool_a=layers.MaxPooling2D((511,1))(conv_2d_layer1)\n",
        "    max_pool_b=layers.MaxPooling2D((510,1))(conv_2d_layer2)\n",
        "    max_pool_c=layers.MaxPooling2D((509,1))(conv_2d_layer3)\n",
        "    max_pool_d=layers.MaxPooling2D((508,1))(conv_2d_layer4)\n",
        "    x=layers.concatenate([max_pool_a,max_pool_b,max_pool_c,max_pool_d])\n",
        "    flatten=layers.Flatten()(x)\n",
        "    drop_out=layers.Dropout(0.5)(flatten)\n",
        "    #dense_1=layers.Dense(64,activation='relu')(drop_out)\n",
        "    #dense_2=layers.Dense(25,activation='relu')(dense_1)\n",
        "    outputs=layers.Dense(5,activation='re')(drop_out)\n",
        "    model=keras.Model(inputs=inputs, outputs=outputs, name='non_linear')\n",
        "    model.summary()\n",
        "    model.compile(optimizer='adam',loss=tf.keras.losses.SparseCategoricalCrossentropy(from_logits=True),metrics=['accuracy'])\n",
        "    model.fit(train_data,train_label,epochs=60,validation_data=(test_data,test_label))\n"
      ],
      "execution_count": 0,
      "outputs": [
        {
          "output_type": "stream",
          "text": [
            "Using TensorFlow backend.\n"
          ],
          "name": "stderr"
        }
      ]
    },
    {
      "cell_type": "code",
      "metadata": {
        "id": "skGPvztX98Dg",
        "colab_type": "code",
        "outputId": "c1bc99a4-aee2-4f3e-cf75-532c2046a75b",
        "colab": {
          "base_uri": "https://localhost:8080/",
          "height": 114,
          "referenced_widgets": [
            "67225666dc574bc1a4a1d7962ce7e971",
            "f8f611b94ca94b10b46c2dd98fe0555f",
            "16d129315f5e4c15b3f4e7d42d5395cd",
            "f38196a2b2db4d239f01deb884d4fa27",
            "f206970d80de44d4a07ad57840cc827c",
            "1377d9534afa46329b15ebb1a059bef9",
            "2f7283130c1749db940ea563c49bacf9",
            "6a1c1d5368b24cea94f03f0431672c9e",
            "3b7a4935f30c45988516e89ba8affbbc",
            "fcc8472f47d249559ef457727b32972e",
            "fefdfcd6804c492c9371ec456da24c55",
            "317c1f30c6804f9aa87d48e34669371e",
            "dd47b14b2e3f47c581670322b524bf8f",
            "a7c39c53538d4b83bb5177d99721fed1",
            "9f19684340a546f8b9ce5c3035183058",
            "e0750c04110742638f5b7cfac5a8df06"
          ]
        }
      },
      "source": [
        "(train_data,train_label,test_data,test_label)=get_batched_data_in_a_go()"
      ],
      "execution_count": 0,
      "outputs": [
        {
          "output_type": "display_data",
          "data": {
            "application/vnd.jupyter.widget-view+json": {
              "model_id": "67225666dc574bc1a4a1d7962ce7e971",
              "version_minor": 0,
              "version_major": 2
            },
            "text/plain": [
              "HBox(children=(IntProgress(value=0, description='Downloading', max=230, style=ProgressStyle(description_width=…"
            ]
          },
          "metadata": {
            "tags": []
          }
        },
        {
          "output_type": "stream",
          "text": [
            "\n"
          ],
          "name": "stdout"
        },
        {
          "output_type": "display_data",
          "data": {
            "application/vnd.jupyter.widget-view+json": {
              "model_id": "3b7a4935f30c45988516e89ba8affbbc",
              "version_minor": 0,
              "version_major": 2
            },
            "text/plain": [
              "HBox(children=(IntProgress(value=0, description='Downloading', max=230, style=ProgressStyle(description_width=…"
            ]
          },
          "metadata": {
            "tags": []
          }
        },
        {
          "output_type": "stream",
          "text": [
            "\n"
          ],
          "name": "stdout"
        }
      ]
    },
    {
      "cell_type": "code",
      "metadata": {
        "id": "pf7MbB3WLhGk",
        "colab_type": "code",
        "outputId": "bcda05a4-5616-41c3-aa81-c4f97eccfc53",
        "colab": {
          "base_uri": "https://localhost:8080/",
          "height": 34
        }
      },
      "source": [
        "test_label.shape"
      ],
      "execution_count": 0,
      "outputs": [
        {
          "output_type": "execute_result",
          "data": {
            "text/plain": [
              "(175, 1)"
            ]
          },
          "metadata": {
            "tags": []
          },
          "execution_count": 13
        }
      ]
    },
    {
      "cell_type": "code",
      "metadata": {
        "id": "caSfBTe1JeOR",
        "colab_type": "code",
        "outputId": "9cd64c63-82be-4ac1-a343-2b0048e7e7e7",
        "colab": {
          "base_uri": "https://localhost:8080/",
          "height": 655
        }
      },
      "source": [
        "non_linear_train(train_data,train_label,test_data,test_label)"
      ],
      "execution_count": 0,
      "outputs": [
        {
          "output_type": "stream",
          "text": [
            "Model: \"non_linear\"\n",
            "__________________________________________________________________________________________________\n",
            "Layer (type)                    Output Shape         Param #     Connected to                     \n",
            "==================================================================================================\n",
            "input_1 (InputLayer)            [(None, 512, 768, 1) 0                                            \n",
            "__________________________________________________________________________________________________\n",
            "conv2d (Conv2D)                 (None, 511, 1, 64)   98368       input_1[0][0]                    \n",
            "__________________________________________________________________________________________________\n",
            "conv2d_1 (Conv2D)               (None, 510, 1, 64)   147520      input_1[0][0]                    \n",
            "__________________________________________________________________________________________________\n",
            "conv2d_2 (Conv2D)               (None, 509, 1, 64)   196672      input_1[0][0]                    \n",
            "__________________________________________________________________________________________________\n",
            "conv2d_3 (Conv2D)               (None, 508, 1, 64)   245824      input_1[0][0]                    \n",
            "__________________________________________________________________________________________________\n",
            "max_pooling2d (MaxPooling2D)    (None, 1, 1, 64)     0           conv2d[0][0]                     \n",
            "__________________________________________________________________________________________________\n",
            "max_pooling2d_1 (MaxPooling2D)  (None, 1, 1, 64)     0           conv2d_1[0][0]                   \n",
            "__________________________________________________________________________________________________\n",
            "max_pooling2d_2 (MaxPooling2D)  (None, 1, 1, 64)     0           conv2d_2[0][0]                   \n",
            "__________________________________________________________________________________________________\n",
            "max_pooling2d_3 (MaxPooling2D)  (None, 1, 1, 64)     0           conv2d_3[0][0]                   \n",
            "__________________________________________________________________________________________________\n",
            "concatenate (Concatenate)       (None, 1, 1, 256)    0           max_pooling2d[0][0]              \n",
            "                                                                 max_pooling2d_1[0][0]            \n",
            "                                                                 max_pooling2d_2[0][0]            \n",
            "                                                                 max_pooling2d_3[0][0]            \n",
            "__________________________________________________________________________________________________\n",
            "flatten (Flatten)               (None, 256)          0           concatenate[0][0]                \n",
            "__________________________________________________________________________________________________\n",
            "dropout (Dropout)               (None, 256)          0           flatten[0][0]                    \n",
            "__________________________________________________________________________________________________\n",
            "dense (Dense)                   (None, 5)            1285        dropout[0][0]                    \n",
            "==================================================================================================\n",
            "Total params: 689,669\n",
            "Trainable params: 689,669\n",
            "Non-trainable params: 0\n",
            "__________________________________________________________________________________________________\n",
            "Epoch 1/60\n"
          ],
          "name": "stdout"
        }
      ]
    },
    {
      "cell_type": "code",
      "metadata": {
        "id": "vzgoVqk0XWJB",
        "colab_type": "code",
        "outputId": "c3c438d2-45c5-4319-a70b-84fd29855404",
        "colab": {
          "base_uri": "https://localhost:8080/",
          "height": 1000
        }
      },
      "source": [
        "func_train(train_data,train_label,test_data,test_label)"
      ],
      "execution_count": 0,
      "outputs": [
        {
          "output_type": "stream",
          "text": [
            "Model: \"sequential_5\"\n",
            "_________________________________________________________________\n",
            "Layer (type)                 Output Shape              Param #   \n",
            "=================================================================\n",
            "dropout_11 (Dropout)         (None, 512, 768, 1)       0         \n",
            "_________________________________________________________________\n",
            "conv2d_9 (Conv2D)            (None, 511, 1, 32)        49184     \n",
            "_________________________________________________________________\n",
            "max_pooling2d_9 (MaxPooling2 (None, 10, 1, 32)         0         \n",
            "_________________________________________________________________\n",
            "flatten_6 (Flatten)          (None, 320)               0         \n",
            "_________________________________________________________________\n",
            "dropout_12 (Dropout)         (None, 320)               0         \n",
            "_________________________________________________________________\n",
            "dense_11 (Dense)             (None, 64)                20544     \n",
            "_________________________________________________________________\n",
            "dense_12 (Dense)             (None, 5)                 325       \n",
            "=================================================================\n",
            "Total params: 70,053\n",
            "Trainable params: 70,053\n",
            "Non-trainable params: 0\n",
            "_________________________________________________________________\n",
            "Epoch 1/60\n",
            "13/13 [==============================] - 1s 41ms/step - loss: 1.5788 - accuracy: 0.3382 - val_loss: 1.5498 - val_accuracy: 0.2914\n",
            "Epoch 2/60\n",
            "13/13 [==============================] - 0s 33ms/step - loss: 1.4060 - accuracy: 0.4034 - val_loss: 1.2754 - val_accuracy: 0.5371\n",
            "Epoch 3/60\n",
            "13/13 [==============================] - 0s 33ms/step - loss: 1.1090 - accuracy: 0.5676 - val_loss: 1.0329 - val_accuracy: 0.6114\n",
            "Epoch 4/60\n",
            "13/13 [==============================] - 0s 33ms/step - loss: 0.8919 - accuracy: 0.6522 - val_loss: 0.9047 - val_accuracy: 0.6457\n",
            "Epoch 5/60\n",
            "13/13 [==============================] - 0s 33ms/step - loss: 0.7399 - accuracy: 0.7464 - val_loss: 0.7840 - val_accuracy: 0.7086\n",
            "Epoch 6/60\n",
            "13/13 [==============================] - 0s 33ms/step - loss: 0.6477 - accuracy: 0.7850 - val_loss: 0.6728 - val_accuracy: 0.7429\n",
            "Epoch 7/60\n",
            "13/13 [==============================] - 0s 33ms/step - loss: 0.5955 - accuracy: 0.7947 - val_loss: 0.7037 - val_accuracy: 0.7371\n",
            "Epoch 8/60\n",
            "13/13 [==============================] - 0s 33ms/step - loss: 0.5400 - accuracy: 0.8213 - val_loss: 0.6971 - val_accuracy: 0.7257\n",
            "Epoch 9/60\n",
            "13/13 [==============================] - 0s 33ms/step - loss: 0.5000 - accuracy: 0.8285 - val_loss: 0.6690 - val_accuracy: 0.7314\n",
            "Epoch 10/60\n",
            "13/13 [==============================] - 0s 34ms/step - loss: 0.4574 - accuracy: 0.8382 - val_loss: 0.6312 - val_accuracy: 0.7600\n",
            "Epoch 11/60\n",
            "13/13 [==============================] - 0s 33ms/step - loss: 0.3954 - accuracy: 0.8454 - val_loss: 0.6504 - val_accuracy: 0.7257\n",
            "Epoch 12/60\n",
            "13/13 [==============================] - 0s 33ms/step - loss: 0.3664 - accuracy: 0.8720 - val_loss: 0.6157 - val_accuracy: 0.7543\n",
            "Epoch 13/60\n",
            "13/13 [==============================] - 0s 33ms/step - loss: 0.3848 - accuracy: 0.8406 - val_loss: 0.6267 - val_accuracy: 0.7371\n",
            "Epoch 14/60\n",
            "13/13 [==============================] - 0s 32ms/step - loss: 0.3382 - accuracy: 0.8623 - val_loss: 0.6012 - val_accuracy: 0.7371\n",
            "Epoch 15/60\n",
            "13/13 [==============================] - 0s 33ms/step - loss: 0.2603 - accuracy: 0.9155 - val_loss: 0.5614 - val_accuracy: 0.7657\n",
            "Epoch 16/60\n",
            "13/13 [==============================] - 0s 32ms/step - loss: 0.2505 - accuracy: 0.9106 - val_loss: 0.5085 - val_accuracy: 0.8000\n",
            "Epoch 17/60\n",
            "13/13 [==============================] - 0s 32ms/step - loss: 0.1880 - accuracy: 0.9517 - val_loss: 0.5096 - val_accuracy: 0.8171\n",
            "Epoch 18/60\n",
            "13/13 [==============================] - 0s 33ms/step - loss: 0.1907 - accuracy: 0.9300 - val_loss: 0.5332 - val_accuracy: 0.8114\n",
            "Epoch 19/60\n",
            "13/13 [==============================] - 0s 35ms/step - loss: 0.1780 - accuracy: 0.9444 - val_loss: 0.4690 - val_accuracy: 0.8229\n",
            "Epoch 20/60\n",
            "13/13 [==============================] - 0s 33ms/step - loss: 0.1605 - accuracy: 0.9372 - val_loss: 0.4758 - val_accuracy: 0.8400\n",
            "Epoch 21/60\n",
            "13/13 [==============================] - 0s 33ms/step - loss: 0.1499 - accuracy: 0.9444 - val_loss: 0.4716 - val_accuracy: 0.8286\n",
            "Epoch 22/60\n",
            "13/13 [==============================] - 0s 33ms/step - loss: 0.1284 - accuracy: 0.9565 - val_loss: 0.5486 - val_accuracy: 0.7943\n",
            "Epoch 23/60\n",
            "13/13 [==============================] - 0s 32ms/step - loss: 0.1187 - accuracy: 0.9589 - val_loss: 0.5238 - val_accuracy: 0.7943\n",
            "Epoch 24/60\n",
            "13/13 [==============================] - 0s 33ms/step - loss: 0.1447 - accuracy: 0.9444 - val_loss: 0.5155 - val_accuracy: 0.7943\n",
            "Epoch 25/60\n",
            "13/13 [==============================] - 0s 34ms/step - loss: 0.0790 - accuracy: 0.9831 - val_loss: 0.5371 - val_accuracy: 0.7886\n",
            "Epoch 26/60\n",
            "13/13 [==============================] - 0s 33ms/step - loss: 0.1318 - accuracy: 0.9565 - val_loss: 0.6775 - val_accuracy: 0.7829\n",
            "Epoch 27/60\n",
            "13/13 [==============================] - 0s 34ms/step - loss: 0.0941 - accuracy: 0.9662 - val_loss: 0.6089 - val_accuracy: 0.7943\n",
            "Epoch 28/60\n",
            "13/13 [==============================] - 0s 35ms/step - loss: 0.1003 - accuracy: 0.9734 - val_loss: 0.5387 - val_accuracy: 0.8000\n",
            "Epoch 29/60\n",
            "13/13 [==============================] - 0s 34ms/step - loss: 0.0641 - accuracy: 0.9807 - val_loss: 0.5670 - val_accuracy: 0.8000\n",
            "Epoch 30/60\n",
            "13/13 [==============================] - 0s 33ms/step - loss: 0.0606 - accuracy: 0.9807 - val_loss: 0.5356 - val_accuracy: 0.8114\n",
            "Epoch 31/60\n",
            "13/13 [==============================] - 0s 33ms/step - loss: 0.0848 - accuracy: 0.9710 - val_loss: 0.7399 - val_accuracy: 0.7829\n",
            "Epoch 32/60\n",
            "13/13 [==============================] - 0s 32ms/step - loss: 0.0836 - accuracy: 0.9807 - val_loss: 0.5683 - val_accuracy: 0.8000\n",
            "Epoch 33/60\n",
            "13/13 [==============================] - 0s 33ms/step - loss: 0.0777 - accuracy: 0.9734 - val_loss: 0.5592 - val_accuracy: 0.7943\n",
            "Epoch 34/60\n",
            "13/13 [==============================] - 0s 33ms/step - loss: 0.0661 - accuracy: 0.9807 - val_loss: 0.5026 - val_accuracy: 0.8286\n",
            "Epoch 35/60\n",
            "13/13 [==============================] - 0s 33ms/step - loss: 0.0505 - accuracy: 0.9855 - val_loss: 0.5238 - val_accuracy: 0.8114\n",
            "Epoch 36/60\n",
            "13/13 [==============================] - 0s 33ms/step - loss: 0.0447 - accuracy: 0.9831 - val_loss: 0.5343 - val_accuracy: 0.8171\n",
            "Epoch 37/60\n",
            "13/13 [==============================] - 0s 34ms/step - loss: 0.0328 - accuracy: 0.9928 - val_loss: 0.5469 - val_accuracy: 0.8057\n",
            "Epoch 38/60\n",
            "13/13 [==============================] - 0s 33ms/step - loss: 0.0610 - accuracy: 0.9710 - val_loss: 0.5981 - val_accuracy: 0.7943\n",
            "Epoch 39/60\n",
            "13/13 [==============================] - 0s 33ms/step - loss: 0.0574 - accuracy: 0.9807 - val_loss: 0.6661 - val_accuracy: 0.8057\n",
            "Epoch 40/60\n",
            "13/13 [==============================] - 0s 33ms/step - loss: 0.0883 - accuracy: 0.9734 - val_loss: 0.5757 - val_accuracy: 0.8057\n",
            "Epoch 41/60\n",
            "13/13 [==============================] - 0s 33ms/step - loss: 0.0465 - accuracy: 0.9903 - val_loss: 0.5988 - val_accuracy: 0.7886\n",
            "Epoch 42/60\n",
            "13/13 [==============================] - 0s 32ms/step - loss: 0.0460 - accuracy: 0.9831 - val_loss: 0.5718 - val_accuracy: 0.8000\n",
            "Epoch 43/60\n",
            "13/13 [==============================] - 0s 33ms/step - loss: 0.0433 - accuracy: 0.9879 - val_loss: 0.5566 - val_accuracy: 0.8229\n",
            "Epoch 44/60\n",
            "13/13 [==============================] - 0s 33ms/step - loss: 0.0422 - accuracy: 0.9879 - val_loss: 0.5859 - val_accuracy: 0.7886\n",
            "Epoch 45/60\n",
            "13/13 [==============================] - 0s 33ms/step - loss: 0.0316 - accuracy: 0.9903 - val_loss: 0.5682 - val_accuracy: 0.8000\n",
            "Epoch 46/60\n",
            "13/13 [==============================] - 0s 34ms/step - loss: 0.0497 - accuracy: 0.9783 - val_loss: 0.5743 - val_accuracy: 0.7886\n",
            "Epoch 47/60\n",
            "13/13 [==============================] - 0s 33ms/step - loss: 0.0355 - accuracy: 0.9879 - val_loss: 0.6299 - val_accuracy: 0.7771\n",
            "Epoch 48/60\n",
            "13/13 [==============================] - 0s 33ms/step - loss: 0.0384 - accuracy: 0.9855 - val_loss: 0.6803 - val_accuracy: 0.7943\n",
            "Epoch 49/60\n",
            "13/13 [==============================] - 0s 33ms/step - loss: 0.0243 - accuracy: 0.9976 - val_loss: 0.6603 - val_accuracy: 0.7886\n",
            "Epoch 50/60\n",
            " 7/13 [===============>..............] - ETA: 0s - loss: 0.0193 - accuracy: 0.9955"
          ],
          "name": "stdout"
        }
      ]
    },
    {
      "cell_type": "code",
      "metadata": {
        "id": "D-fv84Ckb2MU",
        "colab_type": "code",
        "colab": {}
      },
      "source": [
        "files.download('./model.h5')"
      ],
      "execution_count": 0,
      "outputs": []
    }
  ]
}